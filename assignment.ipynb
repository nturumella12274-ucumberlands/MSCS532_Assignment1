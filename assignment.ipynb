{
 "cells": [
  {
   "cell_type": "code",
   "execution_count": 1,
   "metadata": {},
   "outputs": [
    {
     "name": "stdout",
     "output_type": "stream",
     "text": [
      "[13, 12, 11, 6, 5]\n"
     ]
    }
   ],
   "source": [
    "from typing import List\n",
    "\n",
    "def insertionSort(arr: List[int]):\n",
    "    n = len(arr)\n",
    "    if n <= 1:\n",
    "        return\n",
    "    \n",
    "    for i  in range(1, n):\n",
    "        key = arr[i]\n",
    "        j = i -1\n",
    "        while j >= 0 and key > arr[j]:\n",
    "            arr[j+ 1] = arr[j]\n",
    "            j -= 1\n",
    "        arr[j+1] = key\n",
    "\n",
    "arr = [12, 11, 13, 5, 6]\n",
    "insertionSort(arr)\n",
    "print(arr)"
   ]
  }
 ],
 "metadata": {
  "kernelspec": {
   "display_name": "Python 3",
   "language": "python",
   "name": "python3"
  },
  "language_info": {
   "codemirror_mode": {
    "name": "ipython",
    "version": 3
   },
   "file_extension": ".py",
   "mimetype": "text/x-python",
   "name": "python",
   "nbconvert_exporter": "python",
   "pygments_lexer": "ipython3",
   "version": "3.12.5"
  }
 },
 "nbformat": 4,
 "nbformat_minor": 2
}
